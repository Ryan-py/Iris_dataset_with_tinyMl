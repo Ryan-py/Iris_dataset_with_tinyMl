{
  "cells": [
    {
      "cell_type": "markdown",
      "metadata": {
        "id": "view-in-github",
        "colab_type": "text"
      },
      "source": [
        "<a href=\"https://colab.research.google.com/github/Ryan-py/tinymlprojects-/blob/main/Iris_dataset_with_tinyMl.ipynb\" target=\"_parent\"><img src=\"https://colab.research.google.com/assets/colab-badge.svg\" alt=\"Open In Colab\"/></a>"
      ]
    },
    {
      "cell_type": "markdown",
      "metadata": {
        "id": "u-17IYQieMah"
      },
      "source": [
        "# TensorFlow  Classification model with Iris dataset\n",
        "![iris](https://s3.amazonaws.com/assets.datacamp.com/blog_assets/Machine+Learning+R/iris-machinelearning.png)\n",
        "\n",
        "\n",
        "## Dataset\n",
        "\n",
        "A small classic dataset from Fisher, 1936. One of the earliest datasets used for evaluation of classification methodologies.\n",
        "\n",
        "This is the \"Iris\" dataset. Originally published at UCI Machine Learning Repository: Iris Data Set, this small dataset from 1936 is often used for testing out machine learning algorithms and visualizations (for example, Scatter Plot). Each row of the table represents an iris flower, including its species and dimensions of its botanical parts, sepal and petal, in centimeters."
      ]
    },
    {
      "cell_type": "markdown",
      "metadata": {
        "id": "bj_v62ZPeMaq"
      },
      "source": [
        "## 1. Import dependent libraries"
      ]
    },
    {
      "cell_type": "code",
      "execution_count": 1,
      "metadata": {
        "id": "UG4vLhGFeMar"
      },
      "outputs": [],
      "source": [
        "import pandas as pd\n",
        "import numpy as np\n",
        "import os\n",
        "\n",
        "# Plotting libraries\n",
        "import matplotlib.pyplot as plt\n",
        "\n",
        "\n",
        "# SKLearn libraries\n",
        "from sklearn.preprocessing import LabelEncoder\n",
        "from sklearn.model_selection import train_test_split\n",
        "\n",
        "# Tensorflow libraries\n",
        "import tensorflow as tf\n",
        "from tensorflow import keras\n",
        "from tensorflow.keras.models import Sequential\n"
      ]
    },
    {
      "cell_type": "code",
      "execution_count": 2,
      "metadata": {
        "id": "v3Ho4ZAzeMat"
      },
      "outputs": [],
      "source": [
        "# Data file path\n",
        "FILE_PATH = '/content/Iris.csv'\n",
        "\n",
        "# Dataframe from csv file\n",
        "iris_data = pd.read_csv(FILE_PATH, header=0)"
      ]
    },
    {
      "cell_type": "code",
      "execution_count": 3,
      "metadata": {
        "colab": {
          "base_uri": "https://localhost:8080/",
          "height": 606
        },
        "id": "ZQHvF9lbeMau",
        "outputId": "16877430-acb8-43be-e488-58ccb80bc3e2"
      },
      "outputs": [
        {
          "output_type": "stream",
          "name": "stdout",
          "text": [
            "<class 'pandas.core.frame.DataFrame'>\n",
            "RangeIndex: 150 entries, 0 to 149\n",
            "Data columns (total 6 columns):\n",
            " #   Column         Non-Null Count  Dtype  \n",
            "---  ------         --------------  -----  \n",
            " 0   Id             150 non-null    int64  \n",
            " 1   SepalLengthCm  150 non-null    float64\n",
            " 2   SepalWidthCm   150 non-null    float64\n",
            " 3   PetalLengthCm  150 non-null    float64\n",
            " 4   PetalWidthCm   150 non-null    float64\n",
            " 5   Species        150 non-null    object \n",
            "dtypes: float64(4), int64(1), object(1)\n",
            "memory usage: 7.2+ KB\n",
            "================================================================================\n"
          ]
        },
        {
          "output_type": "execute_result",
          "data": {
            "text/plain": [
              "   Id  SepalLengthCm  SepalWidthCm  PetalLengthCm  PetalWidthCm      Species\n",
              "0   1            5.1           3.5            1.4           0.2  Iris-setosa\n",
              "1   2            4.9           3.0            1.4           0.2  Iris-setosa\n",
              "2   3            4.7           3.2            1.3           0.2  Iris-setosa\n",
              "3   4            4.6           3.1            1.5           0.2  Iris-setosa\n",
              "4   5            5.0           3.6            1.4           0.2  Iris-setosa\n",
              "5   6            5.4           3.9            1.7           0.4  Iris-setosa\n",
              "6   7            4.6           3.4            1.4           0.3  Iris-setosa\n",
              "7   8            5.0           3.4            1.5           0.2  Iris-setosa\n",
              "8   9            4.4           2.9            1.4           0.2  Iris-setosa\n",
              "9  10            4.9           3.1            1.5           0.1  Iris-setosa"
            ],
            "text/html": [
              "\n",
              "  <div id=\"df-8d4f5b7c-8590-4b80-b76d-4cdae5fa851d\">\n",
              "    <div class=\"colab-df-container\">\n",
              "      <div>\n",
              "<style scoped>\n",
              "    .dataframe tbody tr th:only-of-type {\n",
              "        vertical-align: middle;\n",
              "    }\n",
              "\n",
              "    .dataframe tbody tr th {\n",
              "        vertical-align: top;\n",
              "    }\n",
              "\n",
              "    .dataframe thead th {\n",
              "        text-align: right;\n",
              "    }\n",
              "</style>\n",
              "<table border=\"1\" class=\"dataframe\">\n",
              "  <thead>\n",
              "    <tr style=\"text-align: right;\">\n",
              "      <th></th>\n",
              "      <th>Id</th>\n",
              "      <th>SepalLengthCm</th>\n",
              "      <th>SepalWidthCm</th>\n",
              "      <th>PetalLengthCm</th>\n",
              "      <th>PetalWidthCm</th>\n",
              "      <th>Species</th>\n",
              "    </tr>\n",
              "  </thead>\n",
              "  <tbody>\n",
              "    <tr>\n",
              "      <th>0</th>\n",
              "      <td>1</td>\n",
              "      <td>5.1</td>\n",
              "      <td>3.5</td>\n",
              "      <td>1.4</td>\n",
              "      <td>0.2</td>\n",
              "      <td>Iris-setosa</td>\n",
              "    </tr>\n",
              "    <tr>\n",
              "      <th>1</th>\n",
              "      <td>2</td>\n",
              "      <td>4.9</td>\n",
              "      <td>3.0</td>\n",
              "      <td>1.4</td>\n",
              "      <td>0.2</td>\n",
              "      <td>Iris-setosa</td>\n",
              "    </tr>\n",
              "    <tr>\n",
              "      <th>2</th>\n",
              "      <td>3</td>\n",
              "      <td>4.7</td>\n",
              "      <td>3.2</td>\n",
              "      <td>1.3</td>\n",
              "      <td>0.2</td>\n",
              "      <td>Iris-setosa</td>\n",
              "    </tr>\n",
              "    <tr>\n",
              "      <th>3</th>\n",
              "      <td>4</td>\n",
              "      <td>4.6</td>\n",
              "      <td>3.1</td>\n",
              "      <td>1.5</td>\n",
              "      <td>0.2</td>\n",
              "      <td>Iris-setosa</td>\n",
              "    </tr>\n",
              "    <tr>\n",
              "      <th>4</th>\n",
              "      <td>5</td>\n",
              "      <td>5.0</td>\n",
              "      <td>3.6</td>\n",
              "      <td>1.4</td>\n",
              "      <td>0.2</td>\n",
              "      <td>Iris-setosa</td>\n",
              "    </tr>\n",
              "    <tr>\n",
              "      <th>5</th>\n",
              "      <td>6</td>\n",
              "      <td>5.4</td>\n",
              "      <td>3.9</td>\n",
              "      <td>1.7</td>\n",
              "      <td>0.4</td>\n",
              "      <td>Iris-setosa</td>\n",
              "    </tr>\n",
              "    <tr>\n",
              "      <th>6</th>\n",
              "      <td>7</td>\n",
              "      <td>4.6</td>\n",
              "      <td>3.4</td>\n",
              "      <td>1.4</td>\n",
              "      <td>0.3</td>\n",
              "      <td>Iris-setosa</td>\n",
              "    </tr>\n",
              "    <tr>\n",
              "      <th>7</th>\n",
              "      <td>8</td>\n",
              "      <td>5.0</td>\n",
              "      <td>3.4</td>\n",
              "      <td>1.5</td>\n",
              "      <td>0.2</td>\n",
              "      <td>Iris-setosa</td>\n",
              "    </tr>\n",
              "    <tr>\n",
              "      <th>8</th>\n",
              "      <td>9</td>\n",
              "      <td>4.4</td>\n",
              "      <td>2.9</td>\n",
              "      <td>1.4</td>\n",
              "      <td>0.2</td>\n",
              "      <td>Iris-setosa</td>\n",
              "    </tr>\n",
              "    <tr>\n",
              "      <th>9</th>\n",
              "      <td>10</td>\n",
              "      <td>4.9</td>\n",
              "      <td>3.1</td>\n",
              "      <td>1.5</td>\n",
              "      <td>0.1</td>\n",
              "      <td>Iris-setosa</td>\n",
              "    </tr>\n",
              "  </tbody>\n",
              "</table>\n",
              "</div>\n",
              "      <button class=\"colab-df-convert\" onclick=\"convertToInteractive('df-8d4f5b7c-8590-4b80-b76d-4cdae5fa851d')\"\n",
              "              title=\"Convert this dataframe to an interactive table.\"\n",
              "              style=\"display:none;\">\n",
              "        \n",
              "  <svg xmlns=\"http://www.w3.org/2000/svg\" height=\"24px\"viewBox=\"0 0 24 24\"\n",
              "       width=\"24px\">\n",
              "    <path d=\"M0 0h24v24H0V0z\" fill=\"none\"/>\n",
              "    <path d=\"M18.56 5.44l.94 2.06.94-2.06 2.06-.94-2.06-.94-.94-2.06-.94 2.06-2.06.94zm-11 1L8.5 8.5l.94-2.06 2.06-.94-2.06-.94L8.5 2.5l-.94 2.06-2.06.94zm10 10l.94 2.06.94-2.06 2.06-.94-2.06-.94-.94-2.06-.94 2.06-2.06.94z\"/><path d=\"M17.41 7.96l-1.37-1.37c-.4-.4-.92-.59-1.43-.59-.52 0-1.04.2-1.43.59L10.3 9.45l-7.72 7.72c-.78.78-.78 2.05 0 2.83L4 21.41c.39.39.9.59 1.41.59.51 0 1.02-.2 1.41-.59l7.78-7.78 2.81-2.81c.8-.78.8-2.07 0-2.86zM5.41 20L4 18.59l7.72-7.72 1.47 1.35L5.41 20z\"/>\n",
              "  </svg>\n",
              "      </button>\n",
              "      \n",
              "  <style>\n",
              "    .colab-df-container {\n",
              "      display:flex;\n",
              "      flex-wrap:wrap;\n",
              "      gap: 12px;\n",
              "    }\n",
              "\n",
              "    .colab-df-convert {\n",
              "      background-color: #E8F0FE;\n",
              "      border: none;\n",
              "      border-radius: 50%;\n",
              "      cursor: pointer;\n",
              "      display: none;\n",
              "      fill: #1967D2;\n",
              "      height: 32px;\n",
              "      padding: 0 0 0 0;\n",
              "      width: 32px;\n",
              "    }\n",
              "\n",
              "    .colab-df-convert:hover {\n",
              "      background-color: #E2EBFA;\n",
              "      box-shadow: 0px 1px 2px rgba(60, 64, 67, 0.3), 0px 1px 3px 1px rgba(60, 64, 67, 0.15);\n",
              "      fill: #174EA6;\n",
              "    }\n",
              "\n",
              "    [theme=dark] .colab-df-convert {\n",
              "      background-color: #3B4455;\n",
              "      fill: #D2E3FC;\n",
              "    }\n",
              "\n",
              "    [theme=dark] .colab-df-convert:hover {\n",
              "      background-color: #434B5C;\n",
              "      box-shadow: 0px 1px 3px 1px rgba(0, 0, 0, 0.15);\n",
              "      filter: drop-shadow(0px 1px 2px rgba(0, 0, 0, 0.3));\n",
              "      fill: #FFFFFF;\n",
              "    }\n",
              "  </style>\n",
              "\n",
              "      <script>\n",
              "        const buttonEl =\n",
              "          document.querySelector('#df-8d4f5b7c-8590-4b80-b76d-4cdae5fa851d button.colab-df-convert');\n",
              "        buttonEl.style.display =\n",
              "          google.colab.kernel.accessAllowed ? 'block' : 'none';\n",
              "\n",
              "        async function convertToInteractive(key) {\n",
              "          const element = document.querySelector('#df-8d4f5b7c-8590-4b80-b76d-4cdae5fa851d');\n",
              "          const dataTable =\n",
              "            await google.colab.kernel.invokeFunction('convertToInteractive',\n",
              "                                                     [key], {});\n",
              "          if (!dataTable) return;\n",
              "\n",
              "          const docLinkHtml = 'Like what you see? Visit the ' +\n",
              "            '<a target=\"_blank\" href=https://colab.research.google.com/notebooks/data_table.ipynb>data table notebook</a>'\n",
              "            + ' to learn more about interactive tables.';\n",
              "          element.innerHTML = '';\n",
              "          dataTable['output_type'] = 'display_data';\n",
              "          await google.colab.output.renderOutput(dataTable, element);\n",
              "          const docLink = document.createElement('div');\n",
              "          docLink.innerHTML = docLinkHtml;\n",
              "          element.appendChild(docLink);\n",
              "        }\n",
              "      </script>\n",
              "    </div>\n",
              "  </div>\n",
              "  "
            ]
          },
          "metadata": {},
          "execution_count": 3
        }
      ],
      "source": [
        "iris_data.info()\n",
        "print(\"==\"*40)\n",
        "iris_data.head(10)"
      ]
    },
    {
      "cell_type": "markdown",
      "metadata": {
        "id": "lhb6CcUFeMau"
      },
      "source": [
        "## 2. Preparing dataset"
      ]
    },
    {
      "cell_type": "code",
      "execution_count": 4,
      "metadata": {
        "id": "vhxeYWV7eMav"
      },
      "outputs": [],
      "source": [
        "X = iris_data[['SepalLengthCm', 'SepalWidthCm', 'PetalLengthCm','PetalWidthCm']]\n",
        "y = iris_data.loc[:, ['Species']]"
      ]
    },
    {
      "cell_type": "code",
      "execution_count": 5,
      "metadata": {
        "colab": {
          "base_uri": "https://localhost:8080/"
        },
        "id": "JFdfsRP5eMav",
        "outputId": "e2aa8369-0c79-4d11-f6bc-187882de8968"
      },
      "outputs": [
        {
          "output_type": "stream",
          "name": "stderr",
          "text": [
            "/usr/local/lib/python3.10/dist-packages/sklearn/preprocessing/_label.py:116: DataConversionWarning: A column-vector y was passed when a 1d array was expected. Please change the shape of y to (n_samples, ), for example using ravel().\n",
            "  y = column_or_1d(y, warn=True)\n"
          ]
        },
        {
          "output_type": "execute_result",
          "data": {
            "text/plain": [
              "array([0, 0, 0, 0, 0, 0, 0, 0, 0, 0, 0, 0, 0, 0, 0, 0, 0, 0, 0, 0, 0, 0,\n",
              "       0, 0, 0, 0, 0, 0, 0, 0, 0, 0, 0, 0, 0, 0, 0, 0, 0, 0, 0, 0, 0, 0,\n",
              "       0, 0, 0, 0, 0, 0, 1, 1, 1, 1, 1, 1, 1, 1, 1, 1, 1, 1, 1, 1, 1, 1,\n",
              "       1, 1, 1, 1, 1, 1, 1, 1, 1, 1, 1, 1, 1, 1, 1, 1, 1, 1, 1, 1, 1, 1,\n",
              "       1, 1, 1, 1, 1, 1, 1, 1, 1, 1, 1, 1, 2, 2, 2, 2, 2, 2, 2, 2, 2, 2,\n",
              "       2, 2, 2, 2, 2, 2, 2, 2, 2, 2, 2, 2, 2, 2, 2, 2, 2, 2, 2, 2, 2, 2,\n",
              "       2, 2, 2, 2, 2, 2, 2, 2, 2, 2, 2, 2, 2, 2, 2, 2, 2, 2])"
            ]
          },
          "metadata": {},
          "execution_count": 5
        }
      ],
      "source": [
        "from sklearn.preprocessing import LabelEncoder\n",
        "encoder =  LabelEncoder()\n",
        "y_label= encoder.fit_transform(y)\n",
        "y_label"
      ]
    },
    {
      "cell_type": "markdown",
      "metadata": {
        "id": "HMSKXRgHeMaw"
      },
      "source": [
        "Dataset will be prepared by the tensorflow `from_tensor_slice()` method."
      ]
    },
    {
      "cell_type": "code",
      "execution_count": 6,
      "metadata": {
        "id": "6P8w1RoweMaw"
      },
      "outputs": [],
      "source": [
        "# X_train_full, X_test, y_train_full, y_test = train_test_split(X, y_label, test_size=0.15)\n",
        "\n",
        "# Validation set\n",
        "# X_train, X_valid, y_train, y_valid = train_test_split(X_train_full, y_train_full)\n",
        "\n",
        "X_train, X_test, y_train, y_test = train_test_split(X, y_label, test_size=0.3)"
      ]
    },
    {
      "cell_type": "code",
      "execution_count": 7,
      "metadata": {
        "colab": {
          "base_uri": "https://localhost:8080/"
        },
        "id": "z3Qbz0V3eMax",
        "outputId": "5fa919c2-7e79-4761-d105-3784ea708b51"
      },
      "outputs": [
        {
          "output_type": "stream",
          "name": "stdout",
          "text": [
            "Train shape : (105, 4), Y Train : (105,)\n",
            "(4,)\n"
          ]
        }
      ],
      "source": [
        "print(f\"Train shape : {X_train.shape}, Y Train : {y_train.shape}\")\n",
        "print(X_train.shape[1:])"
      ]
    },
    {
      "cell_type": "code",
      "source": [
        "X_train.head()"
      ],
      "metadata": {
        "colab": {
          "base_uri": "https://localhost:8080/",
          "height": 206
        },
        "id": "HfOEPv8h7mFB",
        "outputId": "5a95929b-bc90-4adb-b312-7928445be925"
      },
      "execution_count": 8,
      "outputs": [
        {
          "output_type": "execute_result",
          "data": {
            "text/plain": [
              "     SepalLengthCm  SepalWidthCm  PetalLengthCm  PetalWidthCm\n",
              "41             4.5           2.3            1.3           0.3\n",
              "116            6.5           3.0            5.5           1.8\n",
              "65             6.7           3.1            4.4           1.4\n",
              "67             5.8           2.7            4.1           1.0\n",
              "45             4.8           3.0            1.4           0.3"
            ],
            "text/html": [
              "\n",
              "  <div id=\"df-cf17c2d6-8ade-4865-b4b5-32d7917dca64\">\n",
              "    <div class=\"colab-df-container\">\n",
              "      <div>\n",
              "<style scoped>\n",
              "    .dataframe tbody tr th:only-of-type {\n",
              "        vertical-align: middle;\n",
              "    }\n",
              "\n",
              "    .dataframe tbody tr th {\n",
              "        vertical-align: top;\n",
              "    }\n",
              "\n",
              "    .dataframe thead th {\n",
              "        text-align: right;\n",
              "    }\n",
              "</style>\n",
              "<table border=\"1\" class=\"dataframe\">\n",
              "  <thead>\n",
              "    <tr style=\"text-align: right;\">\n",
              "      <th></th>\n",
              "      <th>SepalLengthCm</th>\n",
              "      <th>SepalWidthCm</th>\n",
              "      <th>PetalLengthCm</th>\n",
              "      <th>PetalWidthCm</th>\n",
              "    </tr>\n",
              "  </thead>\n",
              "  <tbody>\n",
              "    <tr>\n",
              "      <th>41</th>\n",
              "      <td>4.5</td>\n",
              "      <td>2.3</td>\n",
              "      <td>1.3</td>\n",
              "      <td>0.3</td>\n",
              "    </tr>\n",
              "    <tr>\n",
              "      <th>116</th>\n",
              "      <td>6.5</td>\n",
              "      <td>3.0</td>\n",
              "      <td>5.5</td>\n",
              "      <td>1.8</td>\n",
              "    </tr>\n",
              "    <tr>\n",
              "      <th>65</th>\n",
              "      <td>6.7</td>\n",
              "      <td>3.1</td>\n",
              "      <td>4.4</td>\n",
              "      <td>1.4</td>\n",
              "    </tr>\n",
              "    <tr>\n",
              "      <th>67</th>\n",
              "      <td>5.8</td>\n",
              "      <td>2.7</td>\n",
              "      <td>4.1</td>\n",
              "      <td>1.0</td>\n",
              "    </tr>\n",
              "    <tr>\n",
              "      <th>45</th>\n",
              "      <td>4.8</td>\n",
              "      <td>3.0</td>\n",
              "      <td>1.4</td>\n",
              "      <td>0.3</td>\n",
              "    </tr>\n",
              "  </tbody>\n",
              "</table>\n",
              "</div>\n",
              "      <button class=\"colab-df-convert\" onclick=\"convertToInteractive('df-cf17c2d6-8ade-4865-b4b5-32d7917dca64')\"\n",
              "              title=\"Convert this dataframe to an interactive table.\"\n",
              "              style=\"display:none;\">\n",
              "        \n",
              "  <svg xmlns=\"http://www.w3.org/2000/svg\" height=\"24px\"viewBox=\"0 0 24 24\"\n",
              "       width=\"24px\">\n",
              "    <path d=\"M0 0h24v24H0V0z\" fill=\"none\"/>\n",
              "    <path d=\"M18.56 5.44l.94 2.06.94-2.06 2.06-.94-2.06-.94-.94-2.06-.94 2.06-2.06.94zm-11 1L8.5 8.5l.94-2.06 2.06-.94-2.06-.94L8.5 2.5l-.94 2.06-2.06.94zm10 10l.94 2.06.94-2.06 2.06-.94-2.06-.94-.94-2.06-.94 2.06-2.06.94z\"/><path d=\"M17.41 7.96l-1.37-1.37c-.4-.4-.92-.59-1.43-.59-.52 0-1.04.2-1.43.59L10.3 9.45l-7.72 7.72c-.78.78-.78 2.05 0 2.83L4 21.41c.39.39.9.59 1.41.59.51 0 1.02-.2 1.41-.59l7.78-7.78 2.81-2.81c.8-.78.8-2.07 0-2.86zM5.41 20L4 18.59l7.72-7.72 1.47 1.35L5.41 20z\"/>\n",
              "  </svg>\n",
              "      </button>\n",
              "      \n",
              "  <style>\n",
              "    .colab-df-container {\n",
              "      display:flex;\n",
              "      flex-wrap:wrap;\n",
              "      gap: 12px;\n",
              "    }\n",
              "\n",
              "    .colab-df-convert {\n",
              "      background-color: #E8F0FE;\n",
              "      border: none;\n",
              "      border-radius: 50%;\n",
              "      cursor: pointer;\n",
              "      display: none;\n",
              "      fill: #1967D2;\n",
              "      height: 32px;\n",
              "      padding: 0 0 0 0;\n",
              "      width: 32px;\n",
              "    }\n",
              "\n",
              "    .colab-df-convert:hover {\n",
              "      background-color: #E2EBFA;\n",
              "      box-shadow: 0px 1px 2px rgba(60, 64, 67, 0.3), 0px 1px 3px 1px rgba(60, 64, 67, 0.15);\n",
              "      fill: #174EA6;\n",
              "    }\n",
              "\n",
              "    [theme=dark] .colab-df-convert {\n",
              "      background-color: #3B4455;\n",
              "      fill: #D2E3FC;\n",
              "    }\n",
              "\n",
              "    [theme=dark] .colab-df-convert:hover {\n",
              "      background-color: #434B5C;\n",
              "      box-shadow: 0px 1px 3px 1px rgba(0, 0, 0, 0.15);\n",
              "      filter: drop-shadow(0px 1px 2px rgba(0, 0, 0, 0.3));\n",
              "      fill: #FFFFFF;\n",
              "    }\n",
              "  </style>\n",
              "\n",
              "      <script>\n",
              "        const buttonEl =\n",
              "          document.querySelector('#df-cf17c2d6-8ade-4865-b4b5-32d7917dca64 button.colab-df-convert');\n",
              "        buttonEl.style.display =\n",
              "          google.colab.kernel.accessAllowed ? 'block' : 'none';\n",
              "\n",
              "        async function convertToInteractive(key) {\n",
              "          const element = document.querySelector('#df-cf17c2d6-8ade-4865-b4b5-32d7917dca64');\n",
              "          const dataTable =\n",
              "            await google.colab.kernel.invokeFunction('convertToInteractive',\n",
              "                                                     [key], {});\n",
              "          if (!dataTable) return;\n",
              "\n",
              "          const docLinkHtml = 'Like what you see? Visit the ' +\n",
              "            '<a target=\"_blank\" href=https://colab.research.google.com/notebooks/data_table.ipynb>data table notebook</a>'\n",
              "            + ' to learn more about interactive tables.';\n",
              "          element.innerHTML = '';\n",
              "          dataTable['output_type'] = 'display_data';\n",
              "          await google.colab.output.renderOutput(dataTable, element);\n",
              "          const docLink = document.createElement('div');\n",
              "          docLink.innerHTML = docLinkHtml;\n",
              "          element.appendChild(docLink);\n",
              "        }\n",
              "      </script>\n",
              "    </div>\n",
              "  </div>\n",
              "  "
            ]
          },
          "metadata": {},
          "execution_count": 8
        }
      ]
    },
    {
      "cell_type": "code",
      "execution_count": 9,
      "metadata": {
        "id": "tyRDop-NeMax"
      },
      "outputs": [],
      "source": [
        "def get_model():\n",
        "    model = Sequential([\n",
        "        keras.layers.Input(shape=X_train.shape[1:]),\n",
        "        keras.layers.Dense(100, activation='relu'),\n",
        "        keras.layers.Dense(50, activation='relu',),\n",
        "        keras.layers.Dense(30, activation='relu'),\n",
        "        keras.layers.Dropout(0.2),\n",
        "        keras.layers.Dense(3, activation='softmax')\n",
        "    ])\n",
        "\n",
        "    return model"
      ]
    },
    {
      "cell_type": "code",
      "execution_count": 10,
      "metadata": {
        "id": "VkOYMStheMaz"
      },
      "outputs": [],
      "source": [
        "model = get_model()\n",
        "\n",
        "# Compile the model\n",
        "model.compile(optimizer='adam', loss='sparse_categorical_crossentropy', metrics=['accuracy'])"
      ]
    },
    {
      "cell_type": "code",
      "execution_count": 11,
      "metadata": {
        "colab": {
          "base_uri": "https://localhost:8080/"
        },
        "id": "69oXk2vDeMay",
        "outputId": "78557266-6bc3-4d8b-eef6-e252f10ad6ef"
      },
      "outputs": [
        {
          "output_type": "stream",
          "name": "stdout",
          "text": [
            "Model: \"sequential\"\n",
            "_________________________________________________________________\n",
            " Layer (type)                Output Shape              Param #   \n",
            "=================================================================\n",
            " dense (Dense)               (None, 100)               500       \n",
            "                                                                 \n",
            " dense_1 (Dense)             (None, 50)                5050      \n",
            "                                                                 \n",
            " dense_2 (Dense)             (None, 30)                1530      \n",
            "                                                                 \n",
            " dropout (Dropout)           (None, 30)                0         \n",
            "                                                                 \n",
            " dense_3 (Dense)             (None, 3)                 93        \n",
            "                                                                 \n",
            "=================================================================\n",
            "Total params: 7,173\n",
            "Trainable params: 7,173\n",
            "Non-trainable params: 0\n",
            "_________________________________________________________________\n"
          ]
        }
      ],
      "source": [
        "model.summary()"
      ]
    },
    {
      "cell_type": "code",
      "execution_count": 12,
      "metadata": {
        "colab": {
          "base_uri": "https://localhost:8080/"
        },
        "id": "g6BLCi-1eMaz",
        "outputId": "9408e9ff-7761-4614-ef29-52d70317c630"
      },
      "outputs": [
        {
          "output_type": "stream",
          "name": "stdout",
          "text": [
            "Epoch 1/100\n",
            "3/3 [==============================] - 2s 225ms/step - loss: 1.1450 - accuracy: 0.3905 - val_loss: 0.9154 - val_accuracy: 0.7111\n",
            "Epoch 2/100\n",
            "3/3 [==============================] - 0s 36ms/step - loss: 0.9463 - accuracy: 0.5619 - val_loss: 0.8418 - val_accuracy: 0.7111\n",
            "Epoch 3/100\n",
            "3/3 [==============================] - 0s 36ms/step - loss: 0.8553 - accuracy: 0.5810 - val_loss: 0.7946 - val_accuracy: 0.7778\n",
            "Epoch 4/100\n",
            "3/3 [==============================] - 0s 40ms/step - loss: 0.8152 - accuracy: 0.6571 - val_loss: 0.7529 - val_accuracy: 0.9111\n",
            "Epoch 5/100\n",
            "3/3 [==============================] - 0s 52ms/step - loss: 0.7656 - accuracy: 0.6952 - val_loss: 0.6981 - val_accuracy: 0.8222\n",
            "Epoch 6/100\n",
            "3/3 [==============================] - 0s 38ms/step - loss: 0.7246 - accuracy: 0.7048 - val_loss: 0.6627 - val_accuracy: 0.7778\n",
            "Epoch 7/100\n",
            "3/3 [==============================] - 0s 50ms/step - loss: 0.7030 - accuracy: 0.7333 - val_loss: 0.6217 - val_accuracy: 0.8444\n",
            "Epoch 8/100\n",
            "3/3 [==============================] - 0s 42ms/step - loss: 0.6548 - accuracy: 0.8095 - val_loss: 0.5786 - val_accuracy: 0.7778\n",
            "Epoch 9/100\n",
            "3/3 [==============================] - 0s 42ms/step - loss: 0.6088 - accuracy: 0.8000 - val_loss: 0.5459 - val_accuracy: 0.7778\n",
            "Epoch 10/100\n",
            "3/3 [==============================] - 0s 44ms/step - loss: 0.5615 - accuracy: 0.8286 - val_loss: 0.5196 - val_accuracy: 0.7778\n",
            "Epoch 11/100\n",
            "3/3 [==============================] - 0s 37ms/step - loss: 0.5875 - accuracy: 0.7333 - val_loss: 0.4957 - val_accuracy: 0.8000\n",
            "Epoch 12/100\n",
            "3/3 [==============================] - 0s 45ms/step - loss: 0.5500 - accuracy: 0.8190 - val_loss: 0.4725 - val_accuracy: 0.8667\n",
            "Epoch 13/100\n",
            "3/3 [==============================] - 0s 77ms/step - loss: 0.4970 - accuracy: 0.8286 - val_loss: 0.4495 - val_accuracy: 0.9111\n",
            "Epoch 14/100\n",
            "3/3 [==============================] - 0s 51ms/step - loss: 0.4633 - accuracy: 0.8476 - val_loss: 0.4362 - val_accuracy: 0.9778\n",
            "Epoch 15/100\n",
            "3/3 [==============================] - 0s 40ms/step - loss: 0.4407 - accuracy: 0.9143 - val_loss: 0.4515 - val_accuracy: 0.8444\n",
            "Epoch 16/100\n",
            "3/3 [==============================] - 0s 53ms/step - loss: 0.4618 - accuracy: 0.8762 - val_loss: 0.4123 - val_accuracy: 0.8667\n",
            "Epoch 17/100\n",
            "3/3 [==============================] - 0s 37ms/step - loss: 0.3896 - accuracy: 0.9333 - val_loss: 0.3917 - val_accuracy: 0.9111\n",
            "Epoch 18/100\n",
            "3/3 [==============================] - 0s 36ms/step - loss: 0.4056 - accuracy: 0.8762 - val_loss: 0.3888 - val_accuracy: 0.7778\n",
            "Epoch 19/100\n",
            "3/3 [==============================] - 0s 61ms/step - loss: 0.3887 - accuracy: 0.9048 - val_loss: 0.3615 - val_accuracy: 0.9111\n",
            "Epoch 20/100\n",
            "3/3 [==============================] - 0s 40ms/step - loss: 0.3617 - accuracy: 0.8857 - val_loss: 0.3436 - val_accuracy: 0.9556\n",
            "Epoch 21/100\n",
            "3/3 [==============================] - 0s 46ms/step - loss: 0.3704 - accuracy: 0.8952 - val_loss: 0.3403 - val_accuracy: 0.9333\n",
            "Epoch 22/100\n",
            "3/3 [==============================] - 0s 107ms/step - loss: 0.2905 - accuracy: 0.9714 - val_loss: 0.3227 - val_accuracy: 0.9556\n",
            "Epoch 23/100\n",
            "3/3 [==============================] - 0s 110ms/step - loss: 0.3598 - accuracy: 0.8762 - val_loss: 0.3146 - val_accuracy: 0.9333\n",
            "Epoch 24/100\n",
            "3/3 [==============================] - 0s 69ms/step - loss: 0.3235 - accuracy: 0.9048 - val_loss: 0.3054 - val_accuracy: 0.9333\n",
            "Epoch 25/100\n",
            "3/3 [==============================] - 0s 74ms/step - loss: 0.2873 - accuracy: 0.9333 - val_loss: 0.2959 - val_accuracy: 0.9556\n",
            "Epoch 26/100\n",
            "3/3 [==============================] - 0s 65ms/step - loss: 0.2806 - accuracy: 0.9143 - val_loss: 0.2867 - val_accuracy: 0.9556\n",
            "Epoch 27/100\n",
            "3/3 [==============================] - 0s 71ms/step - loss: 0.2758 - accuracy: 0.9333 - val_loss: 0.2796 - val_accuracy: 0.9778\n",
            "Epoch 28/100\n",
            "3/3 [==============================] - 0s 54ms/step - loss: 0.2853 - accuracy: 0.9333 - val_loss: 0.2726 - val_accuracy: 0.9778\n",
            "Epoch 29/100\n",
            "3/3 [==============================] - 0s 80ms/step - loss: 0.2627 - accuracy: 0.9143 - val_loss: 0.2679 - val_accuracy: 0.9556\n",
            "Epoch 30/100\n",
            "3/3 [==============================] - 0s 80ms/step - loss: 0.2429 - accuracy: 0.9333 - val_loss: 0.2739 - val_accuracy: 0.9111\n",
            "Epoch 31/100\n",
            "3/3 [==============================] - 0s 59ms/step - loss: 0.2237 - accuracy: 0.9333 - val_loss: 0.2499 - val_accuracy: 0.9556\n",
            "Epoch 32/100\n",
            "3/3 [==============================] - 0s 65ms/step - loss: 0.2055 - accuracy: 0.9810 - val_loss: 0.2455 - val_accuracy: 0.9778\n",
            "Epoch 33/100\n",
            "3/3 [==============================] - 0s 65ms/step - loss: 0.2119 - accuracy: 0.9429 - val_loss: 0.2361 - val_accuracy: 0.9778\n",
            "Epoch 34/100\n",
            "3/3 [==============================] - 0s 69ms/step - loss: 0.2128 - accuracy: 0.9619 - val_loss: 0.2307 - val_accuracy: 0.9556\n",
            "Epoch 35/100\n",
            "3/3 [==============================] - 0s 65ms/step - loss: 0.1791 - accuracy: 0.9905 - val_loss: 0.2278 - val_accuracy: 0.9556\n",
            "Epoch 36/100\n",
            "3/3 [==============================] - 0s 43ms/step - loss: 0.1822 - accuracy: 0.9714 - val_loss: 0.2230 - val_accuracy: 0.9556\n",
            "Epoch 37/100\n",
            "3/3 [==============================] - 0s 65ms/step - loss: 0.1838 - accuracy: 0.9619 - val_loss: 0.2197 - val_accuracy: 0.9556\n",
            "Epoch 38/100\n",
            "3/3 [==============================] - 0s 56ms/step - loss: 0.1890 - accuracy: 0.9619 - val_loss: 0.2457 - val_accuracy: 0.9111\n",
            "Epoch 39/100\n",
            "3/3 [==============================] - 0s 67ms/step - loss: 0.2055 - accuracy: 0.9333 - val_loss: 0.2467 - val_accuracy: 0.9111\n",
            "Epoch 40/100\n",
            "3/3 [==============================] - 0s 92ms/step - loss: 0.1791 - accuracy: 0.9429 - val_loss: 0.2045 - val_accuracy: 0.9778\n",
            "Epoch 41/100\n",
            "3/3 [==============================] - 0s 73ms/step - loss: 0.1575 - accuracy: 0.9810 - val_loss: 0.2936 - val_accuracy: 0.8667\n",
            "Epoch 42/100\n",
            "3/3 [==============================] - 0s 81ms/step - loss: 0.2577 - accuracy: 0.9143 - val_loss: 0.2424 - val_accuracy: 0.8667\n",
            "Epoch 43/100\n",
            "3/3 [==============================] - 0s 130ms/step - loss: 0.1580 - accuracy: 0.9714 - val_loss: 0.1939 - val_accuracy: 0.9556\n",
            "Epoch 44/100\n",
            "3/3 [==============================] - 0s 36ms/step - loss: 0.1431 - accuracy: 0.9810 - val_loss: 0.2141 - val_accuracy: 0.9333\n",
            "Epoch 45/100\n",
            "3/3 [==============================] - 0s 37ms/step - loss: 0.1600 - accuracy: 0.9524 - val_loss: 0.2031 - val_accuracy: 0.9556\n",
            "Epoch 46/100\n",
            "3/3 [==============================] - 0s 57ms/step - loss: 0.1513 - accuracy: 0.9619 - val_loss: 0.1846 - val_accuracy: 0.9556\n",
            "Epoch 47/100\n",
            "3/3 [==============================] - 0s 39ms/step - loss: 0.1219 - accuracy: 0.9810 - val_loss: 0.1832 - val_accuracy: 0.9778\n",
            "Epoch 48/100\n",
            "3/3 [==============================] - 0s 38ms/step - loss: 0.1149 - accuracy: 0.9905 - val_loss: 0.1822 - val_accuracy: 0.9778\n",
            "Epoch 49/100\n",
            "3/3 [==============================] - 0s 59ms/step - loss: 0.1311 - accuracy: 0.9619 - val_loss: 0.1772 - val_accuracy: 0.9778\n",
            "Epoch 50/100\n",
            "3/3 [==============================] - 0s 33ms/step - loss: 0.1394 - accuracy: 0.9810 - val_loss: 0.1793 - val_accuracy: 0.9556\n",
            "Epoch 51/100\n",
            "3/3 [==============================] - 0s 32ms/step - loss: 0.1139 - accuracy: 0.9810 - val_loss: 0.1732 - val_accuracy: 0.9556\n",
            "Epoch 52/100\n",
            "3/3 [==============================] - 0s 50ms/step - loss: 0.1042 - accuracy: 0.9810 - val_loss: 0.1726 - val_accuracy: 0.9778\n",
            "Epoch 53/100\n",
            "3/3 [==============================] - 0s 57ms/step - loss: 0.0978 - accuracy: 0.9810 - val_loss: 0.1698 - val_accuracy: 0.9556\n",
            "Epoch 54/100\n",
            "3/3 [==============================] - 0s 30ms/step - loss: 0.0923 - accuracy: 0.9810 - val_loss: 0.1685 - val_accuracy: 0.9556\n",
            "Epoch 55/100\n",
            "3/3 [==============================] - 0s 35ms/step - loss: 0.0943 - accuracy: 0.9905 - val_loss: 0.1830 - val_accuracy: 0.8667\n",
            "Epoch 56/100\n",
            "3/3 [==============================] - 0s 71ms/step - loss: 0.1323 - accuracy: 0.9524 - val_loss: 0.1818 - val_accuracy: 0.8667\n",
            "Epoch 57/100\n",
            "3/3 [==============================] - 0s 51ms/step - loss: 0.1071 - accuracy: 0.9714 - val_loss: 0.1656 - val_accuracy: 0.9556\n",
            "Epoch 58/100\n",
            "3/3 [==============================] - 0s 79ms/step - loss: 0.1243 - accuracy: 0.9714 - val_loss: 0.1644 - val_accuracy: 0.9556\n",
            "Epoch 59/100\n",
            "3/3 [==============================] - 0s 52ms/step - loss: 0.1061 - accuracy: 0.9810 - val_loss: 0.2141 - val_accuracy: 0.8667\n",
            "Epoch 60/100\n",
            "3/3 [==============================] - 0s 59ms/step - loss: 0.1298 - accuracy: 0.9429 - val_loss: 0.1768 - val_accuracy: 0.8667\n",
            "Epoch 61/100\n",
            "3/3 [==============================] - 0s 38ms/step - loss: 0.1224 - accuracy: 0.9619 - val_loss: 0.1641 - val_accuracy: 0.9556\n",
            "Epoch 62/100\n",
            "3/3 [==============================] - 0s 32ms/step - loss: 0.1097 - accuracy: 0.9714 - val_loss: 0.1592 - val_accuracy: 0.9556\n",
            "Epoch 63/100\n",
            "3/3 [==============================] - 0s 56ms/step - loss: 0.0849 - accuracy: 0.9905 - val_loss: 0.1966 - val_accuracy: 0.8667\n",
            "Epoch 64/100\n",
            "3/3 [==============================] - 0s 67ms/step - loss: 0.1091 - accuracy: 0.9619 - val_loss: 0.2034 - val_accuracy: 0.8667\n",
            "Epoch 65/100\n",
            "3/3 [==============================] - 0s 38ms/step - loss: 0.1121 - accuracy: 0.9714 - val_loss: 0.1739 - val_accuracy: 0.8667\n",
            "Epoch 66/100\n",
            "3/3 [==============================] - 0s 47ms/step - loss: 0.0956 - accuracy: 0.9619 - val_loss: 0.1633 - val_accuracy: 0.9556\n",
            "Epoch 67/100\n",
            "3/3 [==============================] - 0s 62ms/step - loss: 0.1045 - accuracy: 0.9810 - val_loss: 0.1573 - val_accuracy: 0.9556\n",
            "Epoch 68/100\n",
            "3/3 [==============================] - 0s 39ms/step - loss: 0.0935 - accuracy: 0.9714 - val_loss: 0.1896 - val_accuracy: 0.8667\n",
            "Epoch 69/100\n",
            "3/3 [==============================] - 0s 57ms/step - loss: 0.1018 - accuracy: 0.9810 - val_loss: 0.1589 - val_accuracy: 0.9556\n",
            "Epoch 70/100\n",
            "3/3 [==============================] - 0s 39ms/step - loss: 0.0837 - accuracy: 0.9810 - val_loss: 0.1674 - val_accuracy: 0.9556\n",
            "Epoch 71/100\n",
            "3/3 [==============================] - 0s 36ms/step - loss: 0.0982 - accuracy: 0.9619 - val_loss: 0.1927 - val_accuracy: 0.9556\n",
            "Epoch 72/100\n",
            "3/3 [==============================] - 0s 69ms/step - loss: 0.0938 - accuracy: 0.9714 - val_loss: 0.1668 - val_accuracy: 0.9556\n",
            "Epoch 73/100\n",
            "3/3 [==============================] - 0s 42ms/step - loss: 0.0780 - accuracy: 0.9810 - val_loss: 0.1513 - val_accuracy: 0.9778\n",
            "Epoch 74/100\n",
            "3/3 [==============================] - 0s 68ms/step - loss: 0.0681 - accuracy: 0.9905 - val_loss: 0.1727 - val_accuracy: 0.8667\n",
            "Epoch 75/100\n",
            "3/3 [==============================] - 0s 36ms/step - loss: 0.0735 - accuracy: 0.9905 - val_loss: 0.1595 - val_accuracy: 0.8889\n",
            "Epoch 76/100\n",
            "3/3 [==============================] - 0s 45ms/step - loss: 0.0776 - accuracy: 0.9905 - val_loss: 0.1490 - val_accuracy: 0.9556\n",
            "Epoch 77/100\n",
            "3/3 [==============================] - 0s 30ms/step - loss: 0.0814 - accuracy: 0.9714 - val_loss: 0.1534 - val_accuracy: 0.9556\n",
            "Epoch 78/100\n",
            "3/3 [==============================] - 0s 45ms/step - loss: 0.0795 - accuracy: 0.9714 - val_loss: 0.1489 - val_accuracy: 0.9556\n",
            "Epoch 79/100\n",
            "3/3 [==============================] - 0s 45ms/step - loss: 0.0879 - accuracy: 0.9619 - val_loss: 0.1535 - val_accuracy: 0.9778\n",
            "Epoch 80/100\n",
            "3/3 [==============================] - 0s 30ms/step - loss: 0.0583 - accuracy: 1.0000 - val_loss: 0.1496 - val_accuracy: 0.9556\n",
            "Epoch 81/100\n",
            "3/3 [==============================] - 0s 68ms/step - loss: 0.0625 - accuracy: 0.9810 - val_loss: 0.1517 - val_accuracy: 0.9556\n",
            "Epoch 82/100\n",
            "3/3 [==============================] - 0s 53ms/step - loss: 0.0734 - accuracy: 0.9810 - val_loss: 0.1493 - val_accuracy: 0.9556\n",
            "Epoch 83/100\n",
            "3/3 [==============================] - 0s 46ms/step - loss: 0.0633 - accuracy: 0.9905 - val_loss: 0.1565 - val_accuracy: 0.9333\n",
            "Epoch 84/100\n",
            "3/3 [==============================] - 0s 56ms/step - loss: 0.0636 - accuracy: 0.9905 - val_loss: 0.2020 - val_accuracy: 0.8667\n",
            "Epoch 85/100\n",
            "3/3 [==============================] - 0s 39ms/step - loss: 0.0916 - accuracy: 0.9619 - val_loss: 0.1983 - val_accuracy: 0.8667\n",
            "Epoch 86/100\n",
            "3/3 [==============================] - 0s 41ms/step - loss: 0.0913 - accuracy: 0.9714 - val_loss: 0.1496 - val_accuracy: 0.9556\n",
            "Epoch 87/100\n",
            "3/3 [==============================] - 0s 49ms/step - loss: 0.0611 - accuracy: 0.9810 - val_loss: 0.1531 - val_accuracy: 0.9556\n",
            "Epoch 88/100\n",
            "3/3 [==============================] - 0s 41ms/step - loss: 0.0735 - accuracy: 0.9810 - val_loss: 0.1519 - val_accuracy: 0.9556\n",
            "Epoch 89/100\n",
            "3/3 [==============================] - 0s 57ms/step - loss: 0.0576 - accuracy: 0.9714 - val_loss: 0.1506 - val_accuracy: 0.9556\n",
            "Epoch 90/100\n",
            "3/3 [==============================] - 0s 35ms/step - loss: 0.0534 - accuracy: 0.9810 - val_loss: 0.1501 - val_accuracy: 0.9556\n",
            "Epoch 91/100\n",
            "3/3 [==============================] - 0s 47ms/step - loss: 0.0694 - accuracy: 0.9810 - val_loss: 0.1579 - val_accuracy: 0.9333\n",
            "Epoch 92/100\n",
            "3/3 [==============================] - 0s 42ms/step - loss: 0.0574 - accuracy: 0.9905 - val_loss: 0.1761 - val_accuracy: 0.8667\n",
            "Epoch 93/100\n",
            "3/3 [==============================] - 0s 39ms/step - loss: 0.0754 - accuracy: 0.9619 - val_loss: 0.1553 - val_accuracy: 0.9778\n",
            "Epoch 94/100\n",
            "3/3 [==============================] - 0s 55ms/step - loss: 0.0604 - accuracy: 0.9905 - val_loss: 0.1539 - val_accuracy: 0.9556\n",
            "Epoch 95/100\n",
            "3/3 [==============================] - 0s 61ms/step - loss: 0.0447 - accuracy: 0.9905 - val_loss: 0.1565 - val_accuracy: 0.9556\n",
            "Epoch 96/100\n",
            "3/3 [==============================] - 0s 62ms/step - loss: 0.0541 - accuracy: 0.9905 - val_loss: 0.1527 - val_accuracy: 0.9556\n",
            "Epoch 97/100\n",
            "3/3 [==============================] - 0s 38ms/step - loss: 0.0532 - accuracy: 0.9905 - val_loss: 0.1531 - val_accuracy: 0.9778\n",
            "Epoch 98/100\n",
            "3/3 [==============================] - 0s 70ms/step - loss: 0.0700 - accuracy: 0.9810 - val_loss: 0.1601 - val_accuracy: 0.9111\n",
            "Epoch 99/100\n",
            "3/3 [==============================] - 0s 45ms/step - loss: 0.0518 - accuracy: 0.9905 - val_loss: 0.1518 - val_accuracy: 0.9556\n",
            "Epoch 100/100\n",
            "3/3 [==============================] - 0s 50ms/step - loss: 0.0570 - accuracy: 0.9905 - val_loss: 0.1514 - val_accuracy: 0.9556\n"
          ]
        }
      ],
      "source": [
        "history = model.fit(X_train, y_train, batch_size=50,epochs=100, validation_data=(X_test, y_test), verbose=1)"
      ]
    },
    {
      "cell_type": "code",
      "execution_count": 13,
      "metadata": {
        "colab": {
          "base_uri": "https://localhost:8080/"
        },
        "id": "qqkmNgKkeMa0",
        "outputId": "53410ea3-d4d4-43cf-b6fc-0aadccdf50e6"
      },
      "outputs": [
        {
          "output_type": "stream",
          "name": "stdout",
          "text": [
            "2/2 [==============================] - 0s 10ms/step - loss: 0.1514 - accuracy: 0.9556\n"
          ]
        },
        {
          "output_type": "execute_result",
          "data": {
            "text/plain": [
              "[0.15140071511268616, 0.9555555582046509]"
            ]
          },
          "metadata": {},
          "execution_count": 13
        }
      ],
      "source": [
        "model.evaluate(X_test, y_test)"
      ]
    },
    {
      "cell_type": "code",
      "source": [
        "input_value = np.array([[5.1, 3.5, 1.4, 0.2]])\n"
      ],
      "metadata": {
        "id": "WQ_Courb65tN"
      },
      "execution_count": 20,
      "outputs": []
    },
    {
      "cell_type": "code",
      "source": [
        "predictions = model.predict(input_value)\n",
        "predictions"
      ],
      "metadata": {
        "colab": {
          "base_uri": "https://localhost:8080/"
        },
        "id": "YXH1WPDH7cQC",
        "outputId": "62e0c551-268b-46c4-8124-302ecf988fe3"
      },
      "execution_count": 15,
      "outputs": [
        {
          "output_type": "stream",
          "name": "stdout",
          "text": [
            "1/1 [==============================] - 0s 223ms/step\n"
          ]
        },
        {
          "output_type": "execute_result",
          "data": {
            "text/plain": [
              "array([[9.9906176e-01, 9.3828596e-04, 2.0391136e-10]], dtype=float32)"
            ]
          },
          "metadata": {},
          "execution_count": 15
        }
      ]
    },
    {
      "cell_type": "markdown",
      "metadata": {
        "id": "-U9vSP9meMa0"
      },
      "source": [
        "## Performance Monitor"
      ]
    },
    {
      "cell_type": "code",
      "execution_count": 16,
      "metadata": {
        "colab": {
          "base_uri": "https://localhost:8080/",
          "height": 528
        },
        "id": "p_w5lAa_eMa1",
        "outputId": "454397fc-ad70-4f23-ef60-8e5ccfab9ed9"
      },
      "outputs": [
        {
          "output_type": "display_data",
          "data": {
            "text/plain": [
              "<Figure size 1000x600 with 1 Axes>"
            ],
            "image/png": "[encoded data removed]"
          },
          "metadata": {}
        }
      ],
      "source": [
        "pd.DataFrame(history.history).plot(figsize=(10,6))\n",
        "plt.grid(True)\n",
        "plt.gca().set_ylim(0, 1)\n",
        "plt.show()"
      ]
    },
    {
      "cell_type": "markdown",
      "metadata": {
        "id": "zYHOqg1ckjhw"
      },
      "source": [
        "# Model conversion🤖\n",
        "For this we are using tensoflowlite(TFLite).TFLite  is a framework designed for deploying machine learning models on resource-constrained devices. Here are some key features of TFLite and their brief explanations:\n",
        "\n",
        "1. Model optimization: TFLite provides tools to optimize models for deployment on edge devices, including techniques like quantization to reduce model size and improve performance.\n",
        "\n",
        "2. Efficient inference: TFLite incorporates optimizations for fast inference on edge devices, leveraging hardware acceleration when available to accelerate computations and improve inference speed.\n",
        "\n",
        "3. Small footprint: TFLite has a small memory and disk footprint, making it suitable for devices with limited resources, ensuring efficient execution even on low-power microcontrollers or devices with limited storage capacity.\n",
        "\n",
        "4. Cross-platform compatibility: TFLite supports various platforms, such as Android, iOS, Linux, and microcontrollers, allowing seamless deployment of models across different devices and operating systems.\n",
        "\n",
        "5. Custom operators and extensions: TFLite enables the integration of custom operators or extensions, enabling device-specific functionality or optimizing the execution of specific operations.\n",
        "\n",
        "6. Integration with TensorFlow ecosystem: TFLite seamlessly integrates with TensorFlow, a popular deep learning framework, allowing models trained using TensorFlow to be converted and deployed using TFLite.\n",
        "\n"
      ]
    },
    {
      "cell_type": "code",
      "execution_count": 17,
      "metadata": {
        "colab": {
          "base_uri": "https://localhost:8080/"
        },
        "id": "Nb0SghfTjXCc",
        "outputId": "878478fb-b270-4f7c-e389-0641c9aa50b1"
      },
      "outputs": [
        {
          "output_type": "stream",
          "name": "stderr",
          "text": [
            "WARNING:absl:Found untraced functions such as _update_step_xla while saving (showing 1 of 1). These functions will not be directly callable after loading.\n"
          ]
        }
      ],
      "source": [
        "# Create a TFLiteConverter object and initialize it with your Keras model\n",
        "converter = tf.lite.TFLiteConverter.from_keras_model(model)\n",
        "\n",
        "\n",
        "\n",
        "# Convert the Keras model to the TFLite format\n",
        "tflite_model = converter.convert()\n",
        "\n",
        "# Save the converted TFLite model to a file\n",
        "with open(\"tflite_model.tflite\", \"wb\") as f:\n",
        "    f.write(tflite_model)"
      ]
    },
    {
      "cell_type": "markdown",
      "metadata": {
        "id": "G1rLzTgdvYAg"
      },
      "source": [
        "#The xxd tool\n",
        "`xxd` is a command-line tool used in TinyML to convert a TensorFlow Lite (TFLite) model to a C array and header file. It converts the binary TFLite model into a hexadecimal representation and generates a C header file containing the hexadecimal values. This allows the model to be easily embedded in C or C++ code for deployment on resource-constrained devices.\n",
        "![xxdtool](https://itslinuxfoss.com/wp-content/uploads/2023/02/image-164.png)"
      ]
    },
    {
      "cell_type": "code",
      "execution_count": 18,
      "metadata": {
        "id": "S1hdEDObmGSS"
      },
      "outputs": [],
      "source": [
        "from google.colab import files"
      ]
    },
    {
      "cell_type": "code",
      "execution_count": 19,
      "metadata": {
        "colab": {
          "base_uri": "https://localhost:8080/",
          "height": 17
        },
        "id": "7A0Fk9jVwFHv",
        "outputId": "5743ed64-8635-4bb7-e8f9-c14fcb01bd88"
      },
      "outputs": [
        {
          "output_type": "display_data",
          "data": {
            "text/plain": [
              "<IPython.core.display.Javascript object>"
            ],
            "application/javascript": [
              "\n",
              "    async function download(id, filename, size) {\n",
              "      if (!google.colab.kernel.accessAllowed) {\n",
              "        return;\n",
              "      }\n",
              "      const div = document.createElement('div');\n",
              "      const label = document.createElement('label');\n",
              "      label.textContent = `Downloading \"${filename}\": `;\n",
              "      div.appendChild(label);\n",
              "      const progress = document.createElement('progress');\n",
              "      progress.max = size;\n",
              "      div.appendChild(progress);\n",
              "      document.body.appendChild(div);\n",
              "\n",
              "      const buffers = [];\n",
              "      let downloaded = 0;\n",
              "\n",
              "      const channel = await google.colab.kernel.comms.open(id);\n",
              "      // Send a message to notify the kernel that we're ready.\n",
              "      channel.send({})\n",
              "\n",
              "      for await (const message of channel.messages) {\n",
              "        // Send a message to notify the kernel that we're ready.\n",
              "        channel.send({})\n",
              "        if (message.buffers) {\n",
              "          for (const buffer of message.buffers) {\n",
              "            buffers.push(buffer);\n",
              "            downloaded += buffer.byteLength;\n",
              "            progress.value = downloaded;\n",
              "          }\n",
              "        }\n",
              "      }\n",
              "      const blob = new Blob(buffers, {type: 'application/binary'});\n",
              "      const a = document.createElement('a');\n",
              "      a.href = window.URL.createObjectURL(blob);\n",
              "      a.download = filename;\n",
              "      div.appendChild(a);\n",
              "      a.click();\n",
              "      div.remove();\n",
              "    }\n",
              "  "
            ]
          },
          "metadata": {}
        },
        {
          "output_type": "display_data",
          "data": {
            "text/plain": [
              "<IPython.core.display.Javascript object>"
            ],
            "application/javascript": [
              "download(\"download_009407e2-52e0-47ce-8120-0b6b8a49592b\", \"iris_model.h\", 192312)"
            ]
          },
          "metadata": {}
        }
      ],
      "source": [
        "!echo \"const unsigned char model[] = {\" > /content/iris_model.h\n",
        "!cat /content/tflite_model.tflite | xxd -i >> /content/iris_model.h #create an hexadecimal array containing all our parameters\n",
        "!echo \"};\" >> /content/iris_model.h\n",
        "\n",
        "files.download(\"/content/iris_model.h\") #automaticly download your file\n"
      ]
    }
  ],
  "metadata": {
    "colab": {
      "provenance": [],
      "include_colab_link": true
    },
    "kernelspec": {
      "display_name": "Python 3",
      "language": "python",
      "name": "python3"
    },
    "language_info": {
      "codemirror_mode": {
        "name": "ipython",
        "version": 3
      },
      "file_extension": ".py",
      "mimetype": "text/x-python",
      "name": "python",
      "nbconvert_exporter": "python",
      "pygments_lexer": "ipython3",
      "version": "3.6.4"
    }
  },
  "nbformat": 4,
  "nbformat_minor": 0
}